{
 "cells": [
  {
   "cell_type": "markdown",
   "metadata": {},
   "source": [
    "## Read and process input data"
   ]
  },
  {
   "cell_type": "code",
   "execution_count": 147,
   "metadata": {},
   "outputs": [],
   "source": [
    "### Read data\n",
    "import numpy as np\n",
    "from scipy import stats\n",
    "import tensorflow as tf\n",
    "import pandas as pd\n",
    "import matplotlib.pyplot as plt\n",
    "import os"
   ]
  },
  {
   "cell_type": "code",
   "execution_count": 148,
   "metadata": {},
   "outputs": [],
   "source": [
    "# Import all labeled files\n",
    "# path = os.path.expanduser(\"~/Dropbox/data/labeledData/\")\n",
    "# fileInList = list(os.path.join(path+f) for f in os.listdir(path))\n",
    "# data = pd.concat((pd.read_csv(f) for f in fileInList))\n",
    "\n",
    "# Import individual labeled files\n",
    "data1 = pd.read_csv('./data/processedData/10-07-20-08.csv')\n",
    "data2 = pd.read_csv('./data/processedData/12-07-18-08.csv')\n",
    "# If you want to combine the individual files\n",
    "data = pd.concat([data1, data2])"
   ]
  },
  {
   "cell_type": "code",
   "execution_count": 149,
   "metadata": {},
   "outputs": [
    {
     "name": "stdout",
     "output_type": "stream",
     "text": [
      "19577\n"
     ]
    },
    {
     "data": {
      "text/plain": [
       "<matplotlib.axes._subplots.AxesSubplot at 0x7ff64ed18518>"
      ]
     },
     "execution_count": 149,
     "metadata": {},
     "output_type": "execute_result"
    },
    {
     "data": {
      "image/png": "[encoded data removed]",
      "text/plain": [
       "<Figure size 432x288 with 1 Axes>"
      ]
     },
     "metadata": {},
     "output_type": "display_data"
    }
   ],
   "source": [
    "print(data.shape[0])\n",
    "data['Activity'].value_counts().plot(kind='bar')"
   ]
  },
  {
   "cell_type": "code",
   "execution_count": 150,
   "metadata": {},
   "outputs": [],
   "source": [
    "# Separate X and Y\n",
    "X = data.iloc[:,:58]\n",
    "Y = data['Activity']\n",
    "# print(Y.unique())\n",
    "# Y.value_counts().plot(kind='bar')"
   ]
  },
  {
   "cell_type": "code",
   "execution_count": 151,
   "metadata": {},
   "outputs": [],
   "source": [
    "# X = X.as_matrix()"
   ]
  },
  {
   "cell_type": "code",
   "execution_count": 152,
   "metadata": {},
   "outputs": [],
   "source": [
    "Y = Y.map( {'Approaching': 0, 'Interacting': 1, 'Leaving': 2, 'Uninterested': 3} ).astype(int)"
   ]
  },
  {
   "cell_type": "code",
   "execution_count": 153,
   "metadata": {},
   "outputs": [],
   "source": [
    "# Y = Y.as_matrix()"
   ]
  },
  {
   "cell_type": "code",
   "execution_count": 154,
   "metadata": {},
   "outputs": [],
   "source": [
    "from sklearn.cross_validation import train_test_split\n",
    "X_train, X_val, y_train, y_val = train_test_split(X, Y, test_size=0.35)"
   ]
  },
  {
   "cell_type": "code",
   "execution_count": 155,
   "metadata": {},
   "outputs": [
    {
     "name": "stderr",
     "output_type": "stream",
     "text": [
      "/home/gvlablinux/anaconda3/envs/tfPython3/lib/python3.6/site-packages/ipykernel/__main__.py:10: SettingWithCopyWarning: \n",
      "A value is trying to be set on a copy of a slice from a DataFrame\n",
      "\n",
      "See the caveats in the documentation: http://pandas.pydata.org/pandas-docs/stable/indexing.html#indexing-view-versus-copy\n",
      "/home/gvlablinux/anaconda3/envs/tfPython3/lib/python3.6/site-packages/ipykernel/__main__.py:11: SettingWithCopyWarning: \n",
      "A value is trying to be set on a copy of a slice from a DataFrame\n",
      "\n",
      "See the caveats in the documentation: http://pandas.pydata.org/pandas-docs/stable/indexing.html#indexing-view-versus-copy\n",
      "/home/gvlablinux/anaconda3/envs/tfPython3/lib/python3.6/site-packages/ipykernel/__main__.py:17: SettingWithCopyWarning: \n",
      "A value is trying to be set on a copy of a slice from a DataFrame.\n",
      "Try using .loc[row_indexer,col_indexer] = value instead\n",
      "\n",
      "See the caveats in the documentation: http://pandas.pydata.org/pandas-docs/stable/indexing.html#indexing-view-versus-copy\n",
      "/home/gvlablinux/anaconda3/envs/tfPython3/lib/python3.6/site-packages/ipykernel/__main__.py:18: SettingWithCopyWarning: \n",
      "A value is trying to be set on a copy of a slice from a DataFrame.\n",
      "Try using .loc[row_indexer,col_indexer] = value instead\n",
      "\n",
      "See the caveats in the documentation: http://pandas.pydata.org/pandas-docs/stable/indexing.html#indexing-view-versus-copy\n",
      "/home/gvlablinux/anaconda3/envs/tfPython3/lib/python3.6/site-packages/ipykernel/__main__.py:26: SettingWithCopyWarning: \n",
      "A value is trying to be set on a copy of a slice from a DataFrame.\n",
      "Try using .loc[row_indexer,col_indexer] = value instead\n",
      "\n",
      "See the caveats in the documentation: http://pandas.pydata.org/pandas-docs/stable/indexing.html#indexing-view-versus-copy\n",
      "/home/gvlablinux/anaconda3/envs/tfPython3/lib/python3.6/site-packages/ipykernel/__main__.py:28: SettingWithCopyWarning: \n",
      "A value is trying to be set on a copy of a slice from a DataFrame.\n",
      "Try using .loc[row_indexer,col_indexer] = value instead\n",
      "\n",
      "See the caveats in the documentation: http://pandas.pydata.org/pandas-docs/stable/indexing.html#indexing-view-versus-copy\n",
      "/home/gvlablinux/anaconda3/envs/tfPython3/lib/python3.6/site-packages/ipykernel/__main__.py:30: SettingWithCopyWarning: \n",
      "A value is trying to be set on a copy of a slice from a DataFrame.\n",
      "Try using .loc[row_indexer,col_indexer] = value instead\n",
      "\n",
      "See the caveats in the documentation: http://pandas.pydata.org/pandas-docs/stable/indexing.html#indexing-view-versus-copy\n",
      "/home/gvlablinux/anaconda3/envs/tfPython3/lib/python3.6/site-packages/ipykernel/__main__.py:32: SettingWithCopyWarning: \n",
      "A value is trying to be set on a copy of a slice from a DataFrame.\n",
      "Try using .loc[row_indexer,col_indexer] = value instead\n",
      "\n",
      "See the caveats in the documentation: http://pandas.pydata.org/pandas-docs/stable/indexing.html#indexing-view-versus-copy\n"
     ]
    }
   ],
   "source": [
    "# Data preprocessing\n",
    "featureNames = list(data.columns)\n",
    "featureNames.remove('Activity')\n",
    "\n",
    "def feature_normalize(dataset):\n",
    "    mu = np.mean(dataset,axis = 0)\n",
    "    sigma = np.std(dataset,axis = 0)\n",
    "    return (dataset - mu)/sigma\n",
    "\n",
    "X_train.dropna(axis=0, how='any', inplace= True)\n",
    "X_val.dropna(axis=0, how='any', inplace= True)\n",
    "\n",
    "for i in range(1,len(featureNames)):\n",
    "    if featureNames[i] == 'timeStamp':\n",
    "        pass\n",
    "    else:\n",
    "        X_train[featureNames[i]] = feature_normalize(X_train[featureNames[i]])\n",
    "        X_val[featureNames[i]] = feature_normalize(X_val[featureNames[i]])\n",
    "        \n",
    "def timeStampToFloat(stringTime):\n",
    "    splitTime = stringTime.split(':')\n",
    "    hour = float(splitTime[0]) * 3600\n",
    "    minutes = float(splitTime[1]) * 60\n",
    "    return hour + minutes + float(splitTime[2])\n",
    "\n",
    "X_train['timeStamp'] = X_train['timeStamp'].apply(timeStampToFloat)\n",
    "\n",
    "X_train['timeStamp'] = feature_normalize(X_train['timeStamp']) \n",
    "\n",
    "X_val['timeStamp'] = X_val['timeStamp'].apply(timeStampToFloat)\n",
    "\n",
    "X_val['timeStamp'] = feature_normalize(X_val['timeStamp'])"
   ]
  },
  {
   "cell_type": "code",
   "execution_count": 156,
   "metadata": {},
   "outputs": [],
   "source": [
    "X_train = X_train.values\n",
    "X_val = X_val.values\n",
    "\n",
    "y_train = y_train.values\n",
    "y_val = y_val.values"
   ]
  },
  {
   "cell_type": "markdown",
   "metadata": {},
   "source": [
    "### AE_ts_model"
   ]
  },
  {
   "cell_type": "code",
   "execution_count": 171,
   "metadata": {},
   "outputs": [],
   "source": [
    "### AE_ts_model.py\n",
    "\"\"\"\n",
    "Created on Tue Mar 22 10:43:29 2016\n",
    "@author: Rob Romijnders\n",
    "\"\"\"\n",
    "import tensorflow as tf\n",
    "import numpy as np\n",
    "import matplotlib.pyplot as plt\n",
    "from collections import Counter\n",
    "from tensorflow.contrib.rnn import LSTMCell\n",
    "\n",
    "\n",
    "def open_data(direc, ratio_train=0.8, dataset=\"ECG5000\"):\n",
    "    \"\"\"Input:\n",
    "    direc: location of the UCR archive\n",
    "    ratio_train: ratio to split training and testset\n",
    "    dataset: name of the dataset in the UCR archive\"\"\"\n",
    "    datadir = direc + '/' + dataset + '/' + dataset\n",
    "    data_train = np.loadtxt(datadir + '_TRAIN', delimiter=',')\n",
    "    data_test_val = np.loadtxt(datadir + '_TEST', delimiter=',')[:-1]\n",
    "    data = np.concatenate((data_train, data_test_val), axis=0)\n",
    "\n",
    "    N, D = data.shape\n",
    "\n",
    "    ind_cut = int(ratio_train * N)\n",
    "    ind = np.random.permutation(N)\n",
    "    return data[ind[:ind_cut], 1:], data[ind[ind_cut:], 1:], data[ind[:ind_cut], 0], data[ind[ind_cut:], 0]\n",
    "\n",
    "\n",
    "def plot_data(X_train, y_train, plot_row=5):\n",
    "    counts = dict(Counter(y_train))\n",
    "    num_classes = len(np.unique(y_train))\n",
    "    f, axarr = plt.subplots(plot_row, num_classes)\n",
    "    for c in np.unique(y_train):  # Loops over classes, plot as columns\n",
    "        c = int(c)\n",
    "        ind = np.where(y_train == c)\n",
    "        ind_plot = np.random.choice(ind[0], size=plot_row)\n",
    "        for n in range(plot_row):  # Loops over rows\n",
    "            axarr[n, c].plot(X_train[ind_plot[n], :])\n",
    "            # Only shops axes for bottom row and left column\n",
    "            if n == 0: axarr[n, c].set_title('Class %.0f (%.0f)' % (c, counts[float(c)]))\n",
    "            if not n == plot_row - 1:\n",
    "                plt.setp([axarr[n, c].get_xticklabels()], visible=False)\n",
    "            if not c == 0:\n",
    "                plt.setp([axarr[n, c].get_yticklabels()], visible=False)\n",
    "    f.subplots_adjust(hspace=0)  # No horizontal space between subplots\n",
    "    f.subplots_adjust(wspace=0)  # No vertical space between subplots\n",
    "    plt.show()\n",
    "    return\n",
    "\n",
    "\n",
    "def plot_z_run(z_run, label, ):\n",
    "    from sklearn.decomposition import TruncatedSVD\n",
    "    f1, (ax1, ax2) = plt.subplots(nrows = 2, figsize = (6, 4))\n",
    "\n",
    "    \n",
    "    PCA_model = TruncatedSVD(n_components=3).fit(z_run)\n",
    "    z_run_reduced = PCA_model.transform(z_run)\n",
    "    ax1.scatter(z_run_reduced[:, 0], z_run_reduced[:, 1], c=label, marker='*', linewidths=0)\n",
    "    ax1.set_title('PCA on z_run')\n",
    "    \n",
    "#     ax1[0].legend(label)\n",
    "    from sklearn.manifold import TSNE\n",
    "    tSNE_model = TSNE(verbose=2, perplexity=80, min_grad_norm=1E-12, n_iter=3000)\n",
    "    z_run_tsne = tSNE_model.fit_transform(z_run)\n",
    "    ax2.scatter(z_run_tsne[:, 0], z_run_tsne[:, 1], c=label, marker='*', linewidths=0)\n",
    "    ax2.set_title('tSNE on z_run')\n",
    "#     ax2.legend()\n",
    "#     f1.legend(label)\n",
    "    return\n",
    "\n",
    "\n",
    "class Model():\n",
    "    def __init__(self, config):\n",
    "        \"\"\"Hyperparameters\"\"\"\n",
    "        num_layers = config['num_layers']\n",
    "        hidden_size = config['hidden_size']\n",
    "        max_grad_norm = config['max_grad_norm']\n",
    "        batch_size = config['batch_size']\n",
    "        sl = config['sl']\n",
    "        crd = config['crd']\n",
    "        num_l = config['num_l']\n",
    "        learning_rate = config['learning_rate']\n",
    "        self.sl = sl\n",
    "        self.batch_size = batch_size\n",
    "\n",
    "        # Nodes for the input variables\n",
    "        self.x = tf.placeholder(\"float\", shape=[batch_size, sl], name='Input_data')\n",
    "        self.x_exp = tf.expand_dims(self.x, 1)\n",
    "        self.keep_prob = tf.placeholder(\"float\")\n",
    "\n",
    "        with tf.variable_scope(\"Encoder\") as scope:\n",
    "            # Th encoder cell, multi-layered with dropout\n",
    "            cell_enc = tf.contrib.rnn.MultiRNNCell([LSTMCell(hidden_size) for _ in range(num_layers)])\n",
    "            cell_enc = tf.contrib.rnn.DropoutWrapper(cell_enc, output_keep_prob=self.keep_prob)\n",
    "\n",
    "            # Initial state\n",
    "            initial_state_enc = cell_enc.zero_state(batch_size, tf.float32)\n",
    "\n",
    "        # with tf.name_scope(\"Enc_2_lat\") as scope:\n",
    "            # layer for mean of z\n",
    "            W_mu = tf.get_variable('W_mu', [hidden_size, num_l])\n",
    "\n",
    "            outputs_enc, _ = tf.contrib.rnn.static_rnn(cell_enc,\n",
    "                                                      inputs=tf.unstack(self.x_exp, axis=2),\n",
    "                                                      initial_state=initial_state_enc)\n",
    "            cell_output = outputs_enc[-1]\n",
    "\n",
    "            b_mu = tf.get_variable('b_mu', [num_l])\n",
    "            self.z_mu = tf.nn.xw_plus_b(cell_output, W_mu, b_mu, name='z_mu')  # mu, mean, of latent space\n",
    "\n",
    "            # Train the point in latent space to have zero-mean and unit-variance on batch basis\n",
    "            lat_mean, lat_var = tf.nn.moments(self.z_mu, axes=[1])\n",
    "            self.loss_lat_batch = tf.reduce_mean(tf.square(lat_mean) + lat_var - tf.log(lat_var) - 1)\n",
    "\n",
    "        with tf.name_scope(\"Lat_2_dec\") as scope:\n",
    "            # layer to generate initial state\n",
    "            W_state = tf.get_variable('W_state', [num_l, hidden_size])\n",
    "            b_state = tf.get_variable('b_state', [hidden_size])\n",
    "            z_state = tf.nn.xw_plus_b(self.z_mu, W_state, b_state, name='z_state')  # mu, mean, of latent space\n",
    "\n",
    "        with tf.variable_scope(\"Decoder\") as scope:\n",
    "            # The decoder, also multi-layered\n",
    "            cell_dec = tf.contrib.rnn.MultiRNNCell([LSTMCell(hidden_size) for _ in range(num_layers)])\n",
    "\n",
    "            # Initial state\n",
    "            initial_state_dec = tuple([(z_state, z_state)] * num_layers)\n",
    "            dec_inputs = [tf.zeros([batch_size, 1])] * sl\n",
    "            # outputs_dec, _ = tf.nn.seq2seq.rnn_decoder(dec_inputs, initial_state_dec, cell_dec)\n",
    "            outputs_dec, _ = tf.contrib.rnn.static_rnn(cell_dec,\n",
    "                                                       inputs=dec_inputs,\n",
    "                                                       initial_state=initial_state_dec)\n",
    "        with tf.name_scope(\"Out_layer\") as scope:\n",
    "            params_o = 2 * crd  # Number of coordinates + variances\n",
    "            W_o = tf.get_variable('W_o', [hidden_size, params_o])\n",
    "            b_o = tf.get_variable('b_o', [params_o])\n",
    "            outputs = tf.concat(outputs_dec, axis=0)  # tensor in [sl*batch_size,hidden_size]\n",
    "            h_out = tf.nn.xw_plus_b(outputs, W_o, b_o)\n",
    "            h_mu, h_sigma_log = tf.unstack(tf.reshape(h_out, [sl, batch_size, params_o]), axis=2)\n",
    "            h_sigma = tf.exp(h_sigma_log)\n",
    "            dist = tf.contrib.distributions.Normal(h_mu, h_sigma)\n",
    "            px = dist.log_prob(tf.transpose(self.x))\n",
    "            loss_seq = -px\n",
    "            self.loss_seq = tf.reduce_mean(loss_seq)\n",
    "\n",
    "        with tf.name_scope(\"train\") as scope:\n",
    "            # Use learning rte decay\n",
    "            global_step = tf.Variable(0, trainable=False)\n",
    "            lr = tf.train.exponential_decay(learning_rate, global_step, 1000, 0.1, staircase=False)\n",
    "\n",
    "            self.loss = self.loss_seq + self.loss_lat_batch\n",
    "\n",
    "            # Route the gradients so that we can plot them on Tensorboard\n",
    "            tvars = tf.trainable_variables()\n",
    "            # We clip the gradients to prevent explosion\n",
    "            grads = tf.gradients(self.loss, tvars)\n",
    "            grads, _ = tf.clip_by_global_norm(grads, max_grad_norm)\n",
    "            self.numel = tf.constant([[0]])\n",
    "\n",
    "            # And apply the gradients\n",
    "            optimizer = tf.train.AdamOptimizer(lr)\n",
    "            gradients = zip(grads, tvars)\n",
    "            self.train_step = optimizer.apply_gradients(gradients, global_step=global_step)\n",
    "            #      for gradient, variable in gradients:  #plot the gradient of each trainable variable\n",
    "            #        if isinstance(gradient, ops.IndexedSlices):\n",
    "            #          grad_values = gradient.values\n",
    "            #        else:\n",
    "            #          grad_values = gradient\n",
    "            #\n",
    "            #        self.numel +=tf.reduce_sum(tf.size(variable))\n",
    "            #        tf.summary.histogram(variable.name, variable)\n",
    "            #        tf.summary.histogram(variable.name + \"/gradients\", grad_values)\n",
    "            #        tf.summary.histogram(variable.name + \"/gradient_norm\", clip_ops.global_norm([grad_values]))\n",
    "\n",
    "            self.numel = tf.constant([[0]])\n",
    "        tf.summary.tensor_summary('lat_state', self.z_mu)\n",
    "        # Define one op to call all summaries\n",
    "        self.merged = tf.summary.merge_all()\n",
    "        # and one op to initialize the variables\n",
    "        self.init_op = tf.global_variables_initializer()"
   ]
  },
  {
   "cell_type": "markdown",
   "metadata": {},
   "source": [
    "## AE_ts_main"
   ]
  },
  {
   "cell_type": "code",
   "execution_count": 158,
   "metadata": {},
   "outputs": [],
   "source": [
    "# -*- coding: utf-8 -*-\n",
    "\"\"\"\n",
    "Created on Tue Mar 22 10:43:29 2016\n",
    "@author: Rob Romijnders\n",
    "\"\"\"\n",
    "\n",
    "import numpy as np\n",
    "import os\n",
    "os.environ['TF_CPP_MIN_LOG_LEVEL'] = '3'\n",
    "import tensorflow as tf\n",
    "tf.logging.set_verbosity(tf.logging.ERROR)\n",
    "from tensorflow.contrib.tensorboard.plugins import projector\n",
    "# from AE_ts_model import Model, open_data, plot_data, plot_z_run"
   ]
  },
  {
   "cell_type": "code",
   "execution_count": 163,
   "metadata": {},
   "outputs": [],
   "source": [
    "# Rob's Hyperparameters\n",
    "\"\"\"Hyperparameters\"\"\"\n",
    "# direc = '/home/rob/Dropbox/ml_projects/LSTM/UCR_TS_Archive_2015'\n",
    "LOG_DIR = \"/home/gvlablinux/autoEncoder/.summaries\"\n",
    "config = {}  # Put all configuration information into the dict\n",
    "config['num_layers'] = 2  # number of layers of stacked RNN's\n",
    "config['hidden_size'] = 90  # memory cells in a layer\n",
    "config['max_grad_norm'] = 5  # maximum gradient norm during training\n",
    "config['batch_size'] = batch_size = 64\n",
    "config['learning_rate'] = .005\n",
    "config['crd'] = 1  # Hyperparameter for future generalization\n",
    "config['num_l'] = 20  # number of units in the latent space"
   ]
  },
  {
   "cell_type": "code",
   "execution_count": 132,
   "metadata": {},
   "outputs": [
    {
     "data": {
      "text/plain": [
       "'Load the data'"
      ]
     },
     "execution_count": 132,
     "metadata": {},
     "output_type": "execute_result"
    }
   ],
   "source": [
    "\"\"\"Hyperparameters\"\"\"\n",
    "# direc = '/home/rob/Dropbox/ml_projects/LSTM/UCR_TS_Archive_2015'\n",
    "LOG_DIR = \"/home/gvlablinux/autoEncoder/.summaries\"\n",
    "config = {}  # Put all configuration information into the dict\n",
    "config['num_layers'] = 5  # number of layers of stacked RNN's\n",
    "config['hidden_size'] = 90  # memory cells in a layer\n",
    "config['max_grad_norm'] = 5  # maximum gradient norm during training\n",
    "config['batch_size'] = batch_size = 350\n",
    "config['learning_rate'] = .005\n",
    "config['crd'] = 1  # Hyperparameter for future generalization\n",
    "config['num_l'] = 20  # number of units in the latent space\n",
    "\n",
    "plot_every = 100  # after _plot_every_ GD steps, there's console output\n",
    "max_iterations = 1000  # maximum number of iterations\n",
    "dropout = 0.2  # Dropout rate\n",
    "\"\"\"Load the data\"\"\"\n",
    "# X_train, X_val, y_train, y_val = open_data('/home/rob/Dropbox/ml_projects/LSTM/UCR_TS_Archive_2015')"
   ]
  },
  {
   "cell_type": "code",
   "execution_count": 160,
   "metadata": {},
   "outputs": [
    {
     "name": "stdout",
     "output_type": "stream",
     "text": [
      "We have 12725 observations with 58 dimensions\n",
      "Train with approximately 5 epochs\n"
     ]
    }
   ],
   "source": [
    "N = X_train.shape[0]\n",
    "Nval = X_val.shape[0]\n",
    "D = X_train.shape[1]\n",
    "config['sl'] = sl = D  # sequence length\n",
    "print('We have %s observations with %s dimensions' % (N, D))\n",
    "\n",
    "# Organize the classes\n",
    "num_classes = len(np.unique(y_train))\n",
    "# base = np.min(y_train)  # Check if data is 0-based\n",
    "# if base != 0:\n",
    "#     y_train -= base\n",
    "#     y_val -= base\n",
    "\n",
    "# Plot data   # and save high quality plt.savefig('data_examples.eps', format='eps', dpi=1000)\n",
    "# plot_data(X_train, y_train)\n",
    "\n",
    "# Proclaim the epochs\n",
    "epochs = np.floor(batch_size * max_iterations / N)\n",
    "# epochs = 10\n",
    "print('Train with approximately %d epochs' % epochs)"
   ]
  },
  {
   "cell_type": "code",
   "execution_count": 161,
   "metadata": {},
   "outputs": [],
   "source": [
    "\"\"\"Training time!\"\"\"\n",
    "tf.reset_default_graph()\n",
    "model = Model(config)\n",
    "\n",
    "sess = tf.Session()\n",
    "perf_collect = np.zeros((2, int(np.floor(max_iterations / plot_every))))"
   ]
  },
  {
   "cell_type": "code",
   "execution_count": 164,
   "metadata": {},
   "outputs": [
    {
     "name": "stdout",
     "output_type": "stream",
     "text": [
      "At      0 /   1000 train (80345.805, 80343.883, 1.925), val (29691.867, 29689.992,1.876) in order (total, seq, lat)\n",
      "At    100 /   1000 train (1.512, 1.475, 0.037), val (1.662, 1.556,0.106) in order (total, seq, lat)\n",
      "At    200 /   1000 train (1.426, 1.397, 0.029), val (1.634, 1.528,0.106) in order (total, seq, lat)\n",
      "At    300 /   1000 train (1.480, 1.457, 0.023), val (1.766, 1.617,0.149) in order (total, seq, lat)\n",
      "At    400 /   1000 train (1.626, 1.606, 0.020), val (1.707, 1.555,0.152) in order (total, seq, lat)\n",
      "At    500 /   1000 train (1.473, 1.456, 0.017), val (1.580, 1.444,0.137) in order (total, seq, lat)\n",
      "At    600 /   1000 train (1.927, 1.915, 0.012), val (1.647, 1.488,0.159) in order (total, seq, lat)\n",
      "At    700 /   1000 train (1.666, 1.657, 0.009), val (1.657, 1.483,0.174) in order (total, seq, lat)\n",
      "At    800 /   1000 train (1.575, 1.564, 0.011), val (1.646, 1.466,0.180) in order (total, seq, lat)\n",
      "At    900 /   1000 train (1.568, 1.558, 0.009), val (1.706, 1.594,0.112) in order (total, seq, lat)\n"
     ]
    }
   ],
   "source": [
    "if True:\n",
    "    sess.run(model.init_op)\n",
    "    writer = tf.summary.FileWriter(LOG_DIR, sess.graph)  # writer for Tensorboard\n",
    "\n",
    "    step = 0  # Step is a counter for filling the numpy array perf_collect\n",
    "    for i in range(max_iterations):\n",
    "        batch_ind = np.random.choice(N, batch_size, replace=False)\n",
    "        result = sess.run([model.loss, model.loss_seq, model.loss_lat_batch, model.train_step],\n",
    "                          feed_dict={model.x: X_train[batch_ind], model.keep_prob: dropout})\n",
    "\n",
    "        if i % plot_every == 0:\n",
    "            # Save train performances\n",
    "            perf_collect[0, step] = loss_train = result[0]\n",
    "            loss_train_seq, lost_train_lat = result[1], result[2]\n",
    "\n",
    "            # Calculate and save validation performance\n",
    "            batch_ind_val = np.random.choice(Nval, batch_size, replace=False)\n",
    "\n",
    "            result = sess.run([model.loss, model.loss_seq, model.loss_lat_batch, model.merged],\n",
    "                              feed_dict={model.x: X_val[batch_ind_val], model.keep_prob: 1.0})\n",
    "            perf_collect[1, step] = loss_val = result[0]\n",
    "            loss_val_seq, lost_val_lat = result[1], result[2]\n",
    "            # and save to Tensorboard\n",
    "            summary_str = result[3]\n",
    "            writer.add_summary(summary_str, i)\n",
    "            writer.flush()\n",
    "\n",
    "            print(\"At %6s / %6s train (%5.3f, %5.3f, %5.3f), val (%5.3f, %5.3f,%5.3f) in order (total, seq, lat)\" % (\n",
    "            i, max_iterations, loss_train, loss_train_seq, lost_train_lat, loss_val, loss_val_seq, lost_val_lat))\n",
    "            step += 1\n",
    "if False:\n",
    "    ##Extract the latent space coordinates of the validation set\n",
    "    start = 0\n",
    "    label = []  # The label to save to visualize the latent space\n",
    "    z_run = []\n",
    "\n",
    "    while start + batch_size < Nval:\n",
    "        run_ind = range(start, start + batch_size)\n",
    "        z_mu_fetch = sess.run(model.z_mu, feed_dict={model.x: X_val[run_ind], model.keep_prob: 1.0})\n",
    "        z_run.append(z_mu_fetch)\n",
    "        start += batch_size\n",
    "\n",
    "    z_run = np.concatenate(z_run, axis=0)\n",
    "    label = y_val[:start]\n",
    "\n",
    "    plot_z_run(z_run, label)\n",
    "\n",
    "# Save the projections also to Tensorboard\n",
    "# def __init__(self, config):\n",
    "saver = tf.train.Saver()\n",
    "saver.save(sess, os.path.join(LOG_DIR, \"model.ckpt\"), step)\n",
    "config = projector.ProjectorConfig()\n",
    "# You can add multiple embeddings. Here we add only one.\n",
    "embedding = config.embeddings.add()\n",
    "embedding.tensor_name = model.z_mu.name\n",
    "# Link this tensor to its metadata file (e.g. labels).\n",
    "embedding.metadata_path = os.path.join(LOG_DIR, 'metadata.tsv')\n",
    "\n",
    "# Saves a configuration file that TensorBoard will read during startup.\n",
    "projector.visualize_embeddings(writer, config)\n",
    "saver.save(sess, os.path.join(LOG_DIR, \"model.ckpt\"), step + 1)\n",
    "writer.flush()\n",
    "\n",
    "\n",
    "\n",
    "# Now open Tensorboard with\n",
    "#  $tensorboard --logdir = LOG_DIR"
   ]
  },
  {
   "cell_type": "code",
   "execution_count": 172,
   "metadata": {},
   "outputs": [
    {
     "name": "stdout",
     "output_type": "stream",
     "text": [
      "[t-SNE] Computing 241 nearest neighbors...\n",
      "[t-SNE] Indexed 6848 samples in 0.004s...\n",
      "[t-SNE] Computed neighbors for 6848 samples in 0.527s...\n",
      "[t-SNE] Computed conditional probabilities for sample 1000 / 6848\n",
      "[t-SNE] Computed conditional probabilities for sample 2000 / 6848\n",
      "[t-SNE] Computed conditional probabilities for sample 3000 / 6848\n",
      "[t-SNE] Computed conditional probabilities for sample 4000 / 6848\n",
      "[t-SNE] Computed conditional probabilities for sample 5000 / 6848\n",
      "[t-SNE] Computed conditional probabilities for sample 6000 / 6848\n",
      "[t-SNE] Computed conditional probabilities for sample 6848 / 6848\n",
      "[t-SNE] Mean sigma: 0.000600\n",
      "[t-SNE] Computed conditional probabilities in 1.225s\n",
      "[t-SNE] Iteration 50: error = 73.5784988, gradient norm = 0.0328541 (50 iterations in 11.140s)\n",
      "[t-SNE] Iteration 100: error = 60.9931831, gradient norm = 0.0051115 (50 iterations in 9.277s)\n",
      "[t-SNE] Iteration 150: error = 58.7464180, gradient norm = 0.0027763 (50 iterations in 8.779s)\n",
      "[t-SNE] Iteration 200: error = 57.7975197, gradient norm = 0.0020052 (50 iterations in 8.758s)\n",
      "[t-SNE] Iteration 250: error = 57.2630653, gradient norm = 0.0012626 (50 iterations in 8.529s)\n",
      "[t-SNE] KL divergence after 250 iterations with early exaggeration: 57.263065\n",
      "[t-SNE] Iteration 300: error = 1.1474040, gradient norm = 0.0011472 (50 iterations in 9.088s)\n",
      "[t-SNE] Iteration 350: error = 0.7541586, gradient norm = 0.0004649 (50 iterations in 9.285s)\n",
      "[t-SNE] Iteration 400: error = 0.6054847, gradient norm = 0.0002538 (50 iterations in 9.461s)\n",
      "[t-SNE] Iteration 450: error = 0.5317206, gradient norm = 0.0001667 (50 iterations in 9.553s)\n",
      "[t-SNE] Iteration 500: error = 0.4888703, gradient norm = 0.0001207 (50 iterations in 9.648s)\n",
      "[t-SNE] Iteration 550: error = 0.4620709, gradient norm = 0.0000950 (50 iterations in 9.273s)\n",
      "[t-SNE] Iteration 600: error = 0.4447061, gradient norm = 0.0000808 (50 iterations in 9.286s)\n",
      "[t-SNE] Iteration 650: error = 0.4337292, gradient norm = 0.0000720 (50 iterations in 9.358s)\n",
      "[t-SNE] Iteration 700: error = 0.4262619, gradient norm = 0.0000709 (50 iterations in 9.300s)\n",
      "[t-SNE] Iteration 750: error = 0.4206450, gradient norm = 0.0000687 (50 iterations in 9.088s)\n",
      "[t-SNE] Iteration 800: error = 0.4168633, gradient norm = 0.0000636 (50 iterations in 8.943s)\n",
      "[t-SNE] Iteration 850: error = 0.4144484, gradient norm = 0.0000624 (50 iterations in 9.107s)\n",
      "[t-SNE] Iteration 900: error = 0.4121782, gradient norm = 0.0000556 (50 iterations in 9.514s)\n",
      "[t-SNE] Iteration 950: error = 0.4105080, gradient norm = 0.0000536 (50 iterations in 9.775s)\n",
      "[t-SNE] Iteration 1000: error = 0.4090116, gradient norm = 0.0000455 (50 iterations in 9.939s)\n",
      "[t-SNE] Iteration 1050: error = 0.4077249, gradient norm = 0.0000440 (50 iterations in 9.848s)\n",
      "[t-SNE] Iteration 1100: error = 0.4062732, gradient norm = 0.0000446 (50 iterations in 9.757s)\n",
      "[t-SNE] Iteration 1150: error = 0.4051922, gradient norm = 0.0000418 (50 iterations in 9.980s)\n",
      "[t-SNE] Iteration 1200: error = 0.4041203, gradient norm = 0.0000410 (50 iterations in 9.731s)\n",
      "[t-SNE] Iteration 1250: error = 0.4030066, gradient norm = 0.0000413 (50 iterations in 9.370s)\n",
      "[t-SNE] Iteration 1300: error = 0.4021238, gradient norm = 0.0000424 (50 iterations in 9.035s)\n",
      "[t-SNE] Iteration 1350: error = 0.4012939, gradient norm = 0.0000386 (50 iterations in 9.093s)\n",
      "[t-SNE] Iteration 1400: error = 0.4007179, gradient norm = 0.0000415 (50 iterations in 8.968s)\n",
      "[t-SNE] Iteration 1450: error = 0.4001852, gradient norm = 0.0000358 (50 iterations in 8.953s)\n",
      "[t-SNE] Iteration 1500: error = 0.3998821, gradient norm = 0.0000356 (50 iterations in 8.939s)\n",
      "[t-SNE] Iteration 1550: error = 0.3992200, gradient norm = 0.0000371 (50 iterations in 8.970s)\n",
      "[t-SNE] Iteration 1600: error = 0.3986386, gradient norm = 0.0000380 (50 iterations in 8.936s)\n",
      "[t-SNE] Iteration 1650: error = 0.3982313, gradient norm = 0.0000360 (50 iterations in 8.957s)\n",
      "[t-SNE] Iteration 1700: error = 0.3977835, gradient norm = 0.0000350 (50 iterations in 8.957s)\n",
      "[t-SNE] Iteration 1750: error = 0.3973869, gradient norm = 0.0000335 (50 iterations in 8.959s)\n",
      "[t-SNE] Iteration 1800: error = 0.3969361, gradient norm = 0.0000337 (50 iterations in 8.959s)\n",
      "[t-SNE] Iteration 1850: error = 0.3965925, gradient norm = 0.0000359 (50 iterations in 8.963s)\n",
      "[t-SNE] Iteration 1900: error = 0.3961931, gradient norm = 0.0000319 (50 iterations in 8.964s)\n",
      "[t-SNE] Iteration 1950: error = 0.3957957, gradient norm = 0.0000348 (50 iterations in 8.966s)\n",
      "[t-SNE] Iteration 2000: error = 0.3954034, gradient norm = 0.0000340 (50 iterations in 8.939s)\n",
      "[t-SNE] Iteration 2050: error = 0.3949647, gradient norm = 0.0000364 (50 iterations in 8.948s)\n",
      "[t-SNE] Iteration 2100: error = 0.3948014, gradient norm = 0.0000358 (50 iterations in 8.934s)\n",
      "[t-SNE] Iteration 2150: error = 0.3945003, gradient norm = 0.0000334 (50 iterations in 8.911s)\n",
      "[t-SNE] Iteration 2200: error = 0.3942262, gradient norm = 0.0000302 (50 iterations in 8.929s)\n",
      "[t-SNE] Iteration 2250: error = 0.3940152, gradient norm = 0.0000292 (50 iterations in 8.920s)\n",
      "[t-SNE] Iteration 2300: error = 0.3936289, gradient norm = 0.0000357 (50 iterations in 8.973s)\n",
      "[t-SNE] Iteration 2350: error = 0.3933495, gradient norm = 0.0000332 (50 iterations in 8.930s)\n",
      "[t-SNE] Iteration 2400: error = 0.3930583, gradient norm = 0.0000321 (50 iterations in 8.963s)\n",
      "[t-SNE] Iteration 2450: error = 0.3929059, gradient norm = 0.0000313 (50 iterations in 8.950s)\n",
      "[t-SNE] Iteration 2500: error = 0.3926247, gradient norm = 0.0000307 (50 iterations in 8.941s)\n",
      "[t-SNE] Iteration 2550: error = 0.3923549, gradient norm = 0.0000339 (50 iterations in 8.929s)\n",
      "[t-SNE] Iteration 2600: error = 0.3922037, gradient norm = 0.0000279 (50 iterations in 8.934s)\n",
      "[t-SNE] Iteration 2650: error = 0.3919321, gradient norm = 0.0000257 (50 iterations in 8.936s)\n",
      "[t-SNE] Iteration 2700: error = 0.3917245, gradient norm = 0.0000257 (50 iterations in 8.939s)\n",
      "[t-SNE] Iteration 2750: error = 0.3915549, gradient norm = 0.0000256 (50 iterations in 8.945s)\n",
      "[t-SNE] Iteration 2800: error = 0.3914972, gradient norm = 0.0000289 (50 iterations in 8.972s)\n",
      "[t-SNE] Iteration 2850: error = 0.3912568, gradient norm = 0.0000274 (50 iterations in 8.968s)\n",
      "[t-SNE] Iteration 2900: error = 0.3910383, gradient norm = 0.0000277 (50 iterations in 8.953s)\n",
      "[t-SNE] Iteration 2950: error = 0.3907382, gradient norm = 0.0000328 (50 iterations in 8.933s)\n",
      "[t-SNE] Iteration 3000: error = 0.3906632, gradient norm = 0.0000255 (50 iterations in 8.948s)\n",
      "[t-SNE] Error after 3000 iterations: 0.390663\n"
     ]
    },
    {
     "data": {
      "image/png": "[encoded data removed]",
      "text/plain": [
       "<Figure size 432x288 with 2 Axes>"
      ]
     },
     "metadata": {},
     "output_type": "display_data"
    }
   ],
   "source": [
    "start = 0\n",
    "label = []  # The label to save to visualize the latent space\n",
    "z_run = []\n",
    "\n",
    "while start + batch_size < Nval:\n",
    "    run_ind = range(start, start + batch_size)\n",
    "    z_mu_fetch = sess.run(model.z_mu, feed_dict={model.x: X_val[run_ind], model.keep_prob: 1.0})\n",
    "    z_run.append(z_mu_fetch)\n",
    "    start += batch_size\n",
    "\n",
    "z_run = np.concatenate(z_run, axis=0)\n",
    "label = y_val[:start]\n",
    "\n",
    "plot_z_run(z_run, label)"
   ]
  },
  {
   "cell_type": "code",
   "execution_count": 39,
   "metadata": {},
   "outputs": [
    {
     "name": "stderr",
     "output_type": "stream",
     "text": [
      "No handles with labels found to put in legend.\n"
     ]
    },
    {
     "name": "stdout",
     "output_type": "stream",
     "text": [
      "[t-SNE] Computing 241 nearest neighbors...\n",
      "[t-SNE] Indexed 6848 samples in 0.006s...\n",
      "[t-SNE] Computed neighbors for 6848 samples in 0.335s...\n",
      "[t-SNE] Computed conditional probabilities for sample 1000 / 6848\n",
      "[t-SNE] Computed conditional probabilities for sample 2000 / 6848\n",
      "[t-SNE] Computed conditional probabilities for sample 3000 / 6848\n",
      "[t-SNE] Computed conditional probabilities for sample 4000 / 6848\n",
      "[t-SNE] Computed conditional probabilities for sample 5000 / 6848\n",
      "[t-SNE] Computed conditional probabilities for sample 6000 / 6848\n",
      "[t-SNE] Computed conditional probabilities for sample 6848 / 6848\n",
      "[t-SNE] Mean sigma: 0.011600\n",
      "[t-SNE] Computed conditional probabilities in 0.999s\n",
      "[t-SNE] Iteration 50: error = 71.7721710, gradient norm = 0.0305266 (50 iterations in 8.856s)\n",
      "[t-SNE] Iteration 100: error = 58.2559547, gradient norm = 0.0057822 (50 iterations in 8.079s)\n",
      "[t-SNE] Iteration 150: error = 55.3278809, gradient norm = 0.0032971 (50 iterations in 7.966s)\n",
      "[t-SNE] Iteration 200: error = 53.9640007, gradient norm = 0.0023981 (50 iterations in 7.879s)\n",
      "[t-SNE] Iteration 250: error = 53.1562805, gradient norm = 0.0018242 (50 iterations in 7.986s)\n",
      "[t-SNE] KL divergence after 250 iterations with early exaggeration: 53.156281\n",
      "[t-SNE] Iteration 300: error = 1.0577666, gradient norm = 0.0011965 (50 iterations in 8.121s)\n",
      "[t-SNE] Iteration 350: error = 0.6643034, gradient norm = 0.0004798 (50 iterations in 8.030s)\n",
      "[t-SNE] Iteration 400: error = 0.5104607, gradient norm = 0.0002615 (50 iterations in 8.016s)\n",
      "[t-SNE] Iteration 450: error = 0.4351465, gradient norm = 0.0001672 (50 iterations in 7.991s)\n",
      "[t-SNE] Iteration 500: error = 0.3921694, gradient norm = 0.0001229 (50 iterations in 8.006s)\n",
      "[t-SNE] Iteration 550: error = 0.3649020, gradient norm = 0.0000970 (50 iterations in 7.979s)\n",
      "[t-SNE] Iteration 600: error = 0.3467586, gradient norm = 0.0000899 (50 iterations in 7.984s)\n",
      "[t-SNE] Iteration 650: error = 0.3360919, gradient norm = 0.0000800 (50 iterations in 8.069s)\n",
      "[t-SNE] Iteration 700: error = 0.3293931, gradient norm = 0.0000744 (50 iterations in 8.001s)\n",
      "[t-SNE] Iteration 750: error = 0.3247556, gradient norm = 0.0000699 (50 iterations in 8.018s)\n",
      "[t-SNE] Iteration 800: error = 0.3216968, gradient norm = 0.0000658 (50 iterations in 8.027s)\n",
      "[t-SNE] Iteration 850: error = 0.3191600, gradient norm = 0.0000591 (50 iterations in 8.078s)\n",
      "[t-SNE] Iteration 900: error = 0.3166589, gradient norm = 0.0000547 (50 iterations in 8.071s)\n",
      "[t-SNE] Iteration 950: error = 0.3142644, gradient norm = 0.0000523 (50 iterations in 8.042s)\n",
      "[t-SNE] Iteration 1000: error = 0.3119063, gradient norm = 0.0000504 (50 iterations in 8.125s)\n",
      "[t-SNE] Iteration 1050: error = 0.3099533, gradient norm = 0.0000470 (50 iterations in 8.025s)\n",
      "[t-SNE] Iteration 1100: error = 0.3082423, gradient norm = 0.0000479 (50 iterations in 8.127s)\n",
      "[t-SNE] Iteration 1150: error = 0.3068933, gradient norm = 0.0000512 (50 iterations in 8.060s)\n",
      "[t-SNE] Iteration 1200: error = 0.3061086, gradient norm = 0.0000531 (50 iterations in 8.155s)\n",
      "[t-SNE] Iteration 1250: error = 0.3049683, gradient norm = 0.0000461 (50 iterations in 8.052s)\n",
      "[t-SNE] Iteration 1300: error = 0.3041386, gradient norm = 0.0000484 (50 iterations in 8.037s)\n",
      "[t-SNE] Iteration 1350: error = 0.3032767, gradient norm = 0.0000434 (50 iterations in 8.062s)\n",
      "[t-SNE] Iteration 1400: error = 0.3025235, gradient norm = 0.0000441 (50 iterations in 8.091s)\n",
      "[t-SNE] Iteration 1450: error = 0.3017823, gradient norm = 0.0000423 (50 iterations in 8.093s)\n",
      "[t-SNE] Iteration 1500: error = 0.3011197, gradient norm = 0.0000431 (50 iterations in 8.017s)\n",
      "[t-SNE] Iteration 1550: error = 0.3005604, gradient norm = 0.0000428 (50 iterations in 8.010s)\n",
      "[t-SNE] Iteration 1600: error = 0.2999961, gradient norm = 0.0000427 (50 iterations in 7.992s)\n",
      "[t-SNE] Iteration 1650: error = 0.2992485, gradient norm = 0.0000393 (50 iterations in 8.045s)\n",
      "[t-SNE] Iteration 1700: error = 0.2988544, gradient norm = 0.0000383 (50 iterations in 7.988s)\n",
      "[t-SNE] Iteration 1750: error = 0.2981789, gradient norm = 0.0000400 (50 iterations in 8.018s)\n",
      "[t-SNE] Iteration 1800: error = 0.2978532, gradient norm = 0.0000414 (50 iterations in 7.985s)\n",
      "[t-SNE] Iteration 1850: error = 0.2973561, gradient norm = 0.0000427 (50 iterations in 8.028s)\n",
      "[t-SNE] Iteration 1900: error = 0.2970299, gradient norm = 0.0000350 (50 iterations in 8.007s)\n",
      "[t-SNE] Iteration 1950: error = 0.2965466, gradient norm = 0.0000353 (50 iterations in 8.034s)\n",
      "[t-SNE] Iteration 2000: error = 0.2961008, gradient norm = 0.0000366 (50 iterations in 7.981s)\n",
      "[t-SNE] Iteration 2050: error = 0.2958304, gradient norm = 0.0000327 (50 iterations in 8.128s)\n",
      "[t-SNE] Iteration 2100: error = 0.2954913, gradient norm = 0.0000341 (50 iterations in 7.996s)\n",
      "[t-SNE] Iteration 2150: error = 0.2951177, gradient norm = 0.0000381 (50 iterations in 8.029s)\n",
      "[t-SNE] Iteration 2200: error = 0.2947027, gradient norm = 0.0000362 (50 iterations in 8.169s)\n",
      "[t-SNE] Iteration 2250: error = 0.2945158, gradient norm = 0.0000348 (50 iterations in 8.583s)\n",
      "[t-SNE] Iteration 2300: error = 0.2938832, gradient norm = 0.0000311 (50 iterations in 8.044s)\n",
      "[t-SNE] Iteration 2350: error = 0.2936699, gradient norm = 0.0000321 (50 iterations in 8.026s)\n",
      "[t-SNE] Iteration 2400: error = 0.2934711, gradient norm = 0.0000317 (50 iterations in 8.107s)\n",
      "[t-SNE] Iteration 2450: error = 0.2930613, gradient norm = 0.0000313 (50 iterations in 7.970s)\n",
      "[t-SNE] Iteration 2500: error = 0.2927190, gradient norm = 0.0000310 (50 iterations in 7.981s)\n",
      "[t-SNE] Iteration 2550: error = 0.2923661, gradient norm = 0.0000354 (50 iterations in 8.069s)\n",
      "[t-SNE] Iteration 2600: error = 0.2921316, gradient norm = 0.0000316 (50 iterations in 8.018s)\n",
      "[t-SNE] Iteration 2650: error = 0.2918091, gradient norm = 0.0000354 (50 iterations in 8.000s)\n",
      "[t-SNE] Iteration 2700: error = 0.2915953, gradient norm = 0.0000317 (50 iterations in 8.010s)\n",
      "[t-SNE] Iteration 2750: error = 0.2913972, gradient norm = 0.0000290 (50 iterations in 7.968s)\n",
      "[t-SNE] Iteration 2800: error = 0.2911671, gradient norm = 0.0000296 (50 iterations in 7.986s)\n",
      "[t-SNE] Iteration 2850: error = 0.2908165, gradient norm = 0.0000308 (50 iterations in 7.984s)\n",
      "[t-SNE] Iteration 2900: error = 0.2904901, gradient norm = 0.0000334 (50 iterations in 8.060s)\n",
      "[t-SNE] Iteration 2950: error = 0.2902277, gradient norm = 0.0000304 (50 iterations in 7.999s)\n"
     ]
    },
    {
     "name": "stderr",
     "output_type": "stream",
     "text": [
      "No handles with labels found to put in legend.\n"
     ]
    },
    {
     "name": "stdout",
     "output_type": "stream",
     "text": [
      "[t-SNE] Iteration 3000: error = 0.2902778, gradient norm = 0.0000357 (50 iterations in 7.983s)\n",
      "[t-SNE] Error after 3000 iterations: 0.290278\n"
     ]
    },
    {
     "data": {
      "image/png": "[encoded data removed]",
      "text/plain": [
       "<Figure size 432x288 with 2 Axes>"
      ]
     },
     "metadata": {},
     "output_type": "display_data"
    }
   ],
   "source": [
    "plot_z_run(z_run, label)"
   ]
  },
  {
   "cell_type": "code",
   "execution_count": 64,
   "metadata": {},
   "outputs": [
    {
     "data": {
      "image/png": "[encoded data removed]",
      "text/plain": [
       "<Figure size 432x288 with 2 Axes>"
      ]
     },
     "metadata": {},
     "output_type": "display_data"
    }
   ],
   "source": [
    "from sklearn.decomposition import TruncatedSVD\n",
    "f1, ax1 = plt.subplots(2, 1)\n",
    "\n",
    "PCA_model = TruncatedSVD(n_components=3).fit(z_run)\n",
    "z_run_reduced = PCA_model.transform(z_run)"
   ]
  },
  {
   "cell_type": "code",
   "execution_count": 67,
   "metadata": {},
   "outputs": [
    {
     "name": "stdout",
     "output_type": "stream",
     "text": [
      "Legend\n"
     ]
    }
   ],
   "source": [
    "print(ax1[0].legend(label))"
   ]
  },
  {
   "cell_type": "code",
   "execution_count": 68,
   "metadata": {},
   "outputs": [
    {
     "data": {
      "text/plain": [
       "<matplotlib.collections.PathCollection at 0x7ff6c198a048>"
      ]
     },
     "execution_count": 68,
     "metadata": {},
     "output_type": "execute_result"
    }
   ],
   "source": [
    "ax1[0].scatter(z_run_reduced[:, 0], z_run_reduced[:, 1], c=label, marker='*', linewidths=0)"
   ]
  },
  {
   "cell_type": "code",
   "execution_count": 72,
   "metadata": {},
   "outputs": [
    {
     "ename": "AttributeError",
     "evalue": "'Figure' object has no attribute 'plot'",
     "output_type": "error",
     "traceback": [
      "\u001b[0;31m---------------------------------------------------------------------------\u001b[0m",
      "\u001b[0;31mAttributeError\u001b[0m                            Traceback (most recent call last)",
      "\u001b[0;32m<ipython-input-72-9741b0b576b5>\u001b[0m in \u001b[0;36m<module>\u001b[0;34m()\u001b[0m\n\u001b[0;32m----> 1\u001b[0;31m \u001b[0mf1\u001b[0m\u001b[0;34m.\u001b[0m\u001b[0mplot\u001b[0m\u001b[0;34m(\u001b[0m\u001b[0;34m)\u001b[0m\u001b[0;34m\u001b[0m\u001b[0m\n\u001b[0m",
      "\u001b[0;31mAttributeError\u001b[0m: 'Figure' object has no attribute 'plot'"
     ]
    }
   ],
   "source": [
    "f1.plot()"
   ]
  },
  {
   "cell_type": "code",
   "execution_count": 73,
   "metadata": {},
   "outputs": [
    {
     "data": {
      "text/plain": [
       "<matplotlib.legend.Legend at 0x7ff6c58a1ac8>"
      ]
     },
     "execution_count": 73,
     "metadata": {},
     "output_type": "execute_result"
    }
   ],
   "source": [
    "f1.legend(label)"
   ]
  },
  {
   "cell_type": "code",
   "execution_count": null,
   "metadata": {},
   "outputs": [],
   "source": []
  }
 ],
 "metadata": {
  "kernelspec": {
   "display_name": "Python [conda env:tfPython3]",
   "language": "python",
   "name": "conda-env-tfPython3-py"
  },
  "language_info": {
   "codemirror_mode": {
    "name": "ipython",
    "version": 3
   },
   "file_extension": ".py",
   "mimetype": "text/x-python",
   "name": "python",
   "nbconvert_exporter": "python",
   "pygments_lexer": "ipython3",
   "version": "3.6.5"
  }
 },
 "nbformat": 4,
 "nbformat_minor": 2
}
