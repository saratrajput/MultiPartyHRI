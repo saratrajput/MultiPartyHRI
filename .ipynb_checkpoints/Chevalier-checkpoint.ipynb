{
 "cells": [
  {
   "cell_type": "code",
   "execution_count": 1,
   "metadata": {},
   "outputs": [],
   "source": [
    "import numpy as np\n",
    "import matplotlib\n",
    "import matplotlib.pyplot as plt\n",
    "import tensorflow as tf  # Version 1.0.0 (some previous versions are used in past commits)\n",
    "from sklearn import metrics\n",
    "import pandas as pd\n",
    "\n",
    "import os"
   ]
  },
  {
   "cell_type": "code",
   "execution_count": 2,
   "metadata": {},
   "outputs": [],
   "source": [
    "data = pd.read_csv('./data/processedData/10-07-20-08.csv')"
   ]
  },
  {
   "cell_type": "code",
   "execution_count": 8,
   "metadata": {},
   "outputs": [
    {
     "name": "stdout",
     "output_type": "stream",
     "text": [
      "<class 'list'>\n"
     ]
    },
    {
     "data": {
      "text/plain": [
       "['Unnamed: 0',\n",
       " 'face_engaged',\n",
       " 'face_glasses',\n",
       " 'face_happy',\n",
       " 'face_lefteyeclosed',\n",
       " 'face_lookingaway',\n",
       " 'face_mouthmoved',\n",
       " 'face_mouthopen',\n",
       " 'face_pitch',\n",
       " 'face_righteyeclosed',\n",
       " 'face_roll',\n",
       " 'face_yaw',\n",
       " 'hip_rot',\n",
       " 'index',\n",
       " 'shoulder_rot',\n",
       " 'timeStamp',\n",
       " 'ElbowLeftX',\n",
       " 'ElbowLeftY',\n",
       " 'ElbowLeftZ',\n",
       " 'ElbowRightX',\n",
       " 'ElbowRightY',\n",
       " 'ElbowRightZ',\n",
       " 'HeadX',\n",
       " 'HeadY',\n",
       " 'HeadZ',\n",
       " 'HipLeftX',\n",
       " 'HipLeftY',\n",
       " 'HipLeftZ',\n",
       " 'HipRightX',\n",
       " 'HipRightY',\n",
       " 'HipRightZ',\n",
       " 'NeckX',\n",
       " 'NeckY',\n",
       " 'NeckZ',\n",
       " 'ShoulderLeftX',\n",
       " 'ShoulderLeftY',\n",
       " 'ShoulderLeftZ',\n",
       " 'ShoulderRightX',\n",
       " 'ShoulderRightY',\n",
       " 'ShoulderRightZ',\n",
       " 'SpineBaseX',\n",
       " 'SpineBaseY',\n",
       " 'SpineBaseZ',\n",
       " 'SpineMidX',\n",
       " 'SpineMidY',\n",
       " 'SpineMidZ',\n",
       " 'SpineShoulderX',\n",
       " 'SpineShoulderY',\n",
       " 'SpineShoulderZ',\n",
       " 'WristLeftX',\n",
       " 'WristLeftY',\n",
       " 'WristLeftZ',\n",
       " 'WristRightX',\n",
       " 'WristRightY',\n",
       " 'WristRightZ',\n",
       " 'pedes_posX',\n",
       " 'pedes_posY',\n",
       " 'pedes_posZ',\n",
       " 'Activity']"
      ]
     },
     "execution_count": 8,
     "metadata": {},
     "output_type": "execute_result"
    }
   ],
   "source": [
    "a = list(data.columns)\n",
    "# a = list(a)\n",
    "print(type(a))\n",
    "a"
   ]
  },
  {
   "cell_type": "code",
   "execution_count": 7,
   "metadata": {},
   "outputs": [],
   "source": [
    "# Useful Constants\n",
    "\n",
    "# Those are separate normalised input features for the neural network\n",
    "# INPUT_SIGNAL_TYPES = [\n",
    "#     \"body_acc_x_\",\n",
    "#     \"body_acc_y_\",\n",
    "#     \"body_acc_z_\",\n",
    "#     \"body_gyro_x_\",\n",
    "#     \"body_gyro_y_\",\n",
    "#     \"body_gyro_z_\",\n",
    "#     \"total_acc_x_\",\n",
    "#     \"total_acc_y_\",\n",
    "#     \"total_acc_z_\"\n",
    "# ]\n",
    "INPUT_SIGNAL_TYPES = data.columns\n",
    "\n",
    "# Output classes to learn how to classify\n",
    "LABELS = [\n",
    "#     \"WALKING\", \n",
    "#     \"WALKING_UPSTAIRS\", \n",
    "#     \"WALKING_DOWNSTAIRS\", \n",
    "#     \"SITTING\", \n",
    "#     \"STANDING\", \n",
    "#     \"LAYING\"\n",
    "    \"Approaching\",\n",
    "    \"Interacting\",\n",
    "    \"Leaving\",\n",
    "    \"Uninterested\"\n",
    "] "
   ]
  },
  {
   "cell_type": "code",
   "execution_count": 4,
   "metadata": {},
   "outputs": [],
   "source": [
    "DATA_PATH = \"data/\"\n",
    "DATASET_PATH = DATA_PATH + \"UCI HAR Dataset/\"\n",
    "# print(\"\\n\" + \"Dataset is now located at: \" + DATASET_PATH)"
   ]
  },
  {
   "cell_type": "code",
   "execution_count": 2,
   "metadata": {},
   "outputs": [],
   "source": [
    "TRAIN = \"train/\"\n",
    "TEST = \"test/\""
   ]
  },
  {
   "cell_type": "code",
   "execution_count": 1,
   "metadata": {},
   "outputs": [],
   "source": [
    "# Load \"X\" (the neural network's training and testing inputs)\n",
    "\n",
    "def load_X(X_signals_paths):\n",
    "    X_signals = []\n",
    "    \n",
    "    for signal_type_path in X_signals_paths:\n",
    "        file = open(signal_type_path, 'r')\n",
    "        # Read dataset from disk, dealing with text files' syntax\n",
    "        X_signals.append(\n",
    "            [np.array(serie, dtype=np.float32) for serie in [\n",
    "                row.replace('  ', ' ').strip().split(' ') for row in file\n",
    "            ]]\n",
    "        )\n",
    "        file.close()\n",
    "    \n",
    "    return np.transpose(np.array(X_signals), (1, 2, 0))"
   ]
  },
  {
   "cell_type": "code",
   "execution_count": 10,
   "metadata": {},
   "outputs": [],
   "source": [
    "X_train_signals_paths = [\n",
    "    DATASET_PATH + TRAIN + \"Inertial Signals/\" + signal + \"train.txt\" for signal in INPUT_SIGNAL_TYPES\n",
    "]\n",
    "X_test_signals_paths = [\n",
    "    DATASET_PATH + TEST + \"Inertial Signals/\" + signal + \"test.txt\" for signal in INPUT_SIGNAL_TYPES\n",
    "]\n",
    "\n",
    "X_train = load_X(X_train_signals_paths)\n",
    "X_test = load_X(X_test_signals_paths)"
   ]
  },
  {
   "cell_type": "code",
   "execution_count": 12,
   "metadata": {},
   "outputs": [
    {
     "data": {
      "text/plain": [
       "(7352, 128, 9)"
      ]
     },
     "execution_count": 12,
     "metadata": {},
     "output_type": "execute_result"
    }
   ],
   "source": [
    "X_train.shape"
   ]
  },
  {
   "cell_type": "code",
   "execution_count": null,
   "metadata": {},
   "outputs": [],
   "source": []
  }
 ],
 "metadata": {
  "kernelspec": {
   "display_name": "Python [conda env:myEnvPy3]",
   "language": "python",
   "name": "conda-env-myEnvPy3-py"
  },
  "language_info": {
   "codemirror_mode": {
    "name": "ipython",
    "version": 3
   },
   "file_extension": ".py",
   "mimetype": "text/x-python",
   "name": "python",
   "nbconvert_exporter": "python",
   "pygments_lexer": "ipython3",
   "version": "3.6.4"
  }
 },
 "nbformat": 4,
 "nbformat_minor": 2
}
